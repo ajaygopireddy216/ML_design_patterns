{
 "cells": [
  {
   "cell_type": "markdown",
   "metadata": {},
   "source": [
    "# Addresses three concerns\n",
    "* incomplete vocabulary\n",
    "* model size due to cardinality\n",
    "* cold start"
   ]
  },
  {
   "cell_type": "markdown",
   "metadata": {},
   "source": [
    "Rule of thumb is to choose the number of hash buckets such that each bucket gets about five entries"
   ]
  },
  {
   "cell_type": "markdown",
   "metadata": {},
   "source": [
    "lossy encoding is an acceptable compromise. Otherwise we might even end up totally discardiing the variable because it is too wide"
   ]
  },
  {
   "cell_type": "markdown",
   "metadata": {},
   "source": [
    "If a new airport gets added to the system, it will initially get the predictions corresponding to other airports in the hash bucket. It initially addresses the cold start problem in this fashion and then as an airport gets popular, there will be more flights from that airport. As long as we periodically retrain the model, its predictions will start to reflect arrival delays from the new airport. "
   ]
  },
  {
   "cell_type": "markdown",
   "metadata": {},
   "source": [
    "# Tradeoff"
   ]
  },
  {
   "cell_type": "markdown",
   "metadata": {},
   "source": [
    "* We lose model accuracy\n",
    "* Don't use hashed feature if you know the vocabulary beforehand\n",
    "* It creates skew to some parts of the data as some high traffic segment and low traffic segment can fall with in the same bucket\n",
    "\n"
   ]
  },
  {
   "cell_type": "markdown",
   "metadata": {},
   "source": [
    "# Cryptographic hash"
   ]
  },
  {
   "cell_type": "markdown",
   "metadata": {},
   "source": [
    "Farm hash is suitable for feature engineering tasks since it is deterministic and offers better collision resistance and faster performance"
   ]
  },
  {
   "cell_type": "code",
   "execution_count": null,
   "metadata": {},
   "outputs": [],
   "source": [
    "import pyfarmhash\n",
    "\n",
    "# Example data\n",
    "data = \"some input string\"\n",
    "\n",
    "# Get 32-bit, 64-bit, and 128-bit hashes\n",
    "hash_32 = pyfarmhash.hash32(data)\n",
    "print(f\"32-bit hash: {hash_32}\")\n",
    "\n",
    "hash_64 = pyfarmhash.hash64(data)\n",
    "print(f\"64-bit hash: {hash_64}\")\n",
    "\n",
    "hash_128 = pyfarmhash.hash128(data)\n",
    "print(f\"128-bit hash: {hash_128}\")\n"
   ]
  }
 ],
 "metadata": {
  "kernelspec": {
   "display_name": "Python 3",
   "language": "python",
   "name": "python3"
  },
  "language_info": {
   "codemirror_mode": {
    "name": "ipython",
    "version": 3
   },
   "file_extension": ".py",
   "mimetype": "text/x-python",
   "name": "python",
   "nbconvert_exporter": "python",
   "pygments_lexer": "ipython3",
   "version": "3.9.6"
  },
  "orig_nbformat": 4
 },
 "nbformat": 4,
 "nbformat_minor": 2
}
